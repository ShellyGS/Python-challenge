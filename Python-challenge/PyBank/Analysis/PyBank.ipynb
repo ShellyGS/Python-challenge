{
 "cells": [
  {
   "cell_type": "code",
   "execution_count": 4,
   "id": "0c86a29b",
   "metadata": {},
   "outputs": [
    {
     "name": "stdout",
     "output_type": "stream",
     "text": [
      "--------------------\n",
      "Financial Analysis\n",
      "--------------------\n",
      "Total Months: 86\n",
      "Total: $22564198\n",
      "Average Change: $-8311.11\n",
      "Greatest Increase in Profits: Aug-16 ($1862002)\n",
      "Greatest Decrease in Profits: Feb-14 ($-1825558)\n"
     ]
    }
   ],
   "source": [
    "#To create file paths across operating systems\n",
    "import csv\n",
    "import os\n",
    "\n",
    "# To read the CSV file\n",
    "Py_bank_csv = os.path.join('..','Resources','budget_data.csv')\n",
    "\n",
    "# Initialize variables\n",
    "Total_months = 0\n",
    "Net_total = 0\n",
    "Previous_profit = 0\n",
    "Change = []\n",
    "Greatest_increase = ['', 0]\n",
    "Greatest_decrease = ['', 0]\n",
    "\n",
    "# Read the CSV file\n",
    "with open(Py_bank_csv, 'r') as file:\n",
    "    csv_reader = csv.reader(file)\n",
    "    next(csv_reader)  # To skip the header row\n",
    "\n",
    "    # Iterate through each row in the CSV file\n",
    "    for row in csv_reader:\n",
    "        # Update the total number of months\n",
    "        Total_months = Total_months + 1\n",
    "\n",
    "        # Extract the profit/loss value from the row\n",
    "        Profit = int(row[1])\n",
    "\n",
    "        # Calculate the net total profit/loss\n",
    "        Net_total = Net_total + Profit\n",
    "\n",
    "        # Calculate the change in profit/loss from the previous row\n",
    "        if Total_months > 1:\n",
    "            Difference = Profit - Previous_profit\n",
    "            Change.append(Difference)\n",
    "\n",
    "            # Check for the greatest increase in profits\n",
    "            if Difference > Greatest_increase[1]:\n",
    "                Greatest_increase = [row[0], Difference]\n",
    "\n",
    "            # Check for the greatest decrease in profits\n",
    "            if Difference < Greatest_decrease[1]:\n",
    "                Greatest_decrease = [row[0], Difference]\n",
    "\n",
    "        # Update the previous profit/loss value\n",
    "        Previous_profit = Profit\n",
    "\n",
    "# Calculate the average change in profit/loss\n",
    "average_change = sum(Change) / len(Change)\n",
    "\n",
    "# Print the analysis results\n",
    "print(\"--------------------\")\n",
    "print(\"Financial Analysis\")\n",
    "print(\"--------------------\")\n",
    "print(f\"Total Months: {Total_months}\")\n",
    "print(f\"Total: ${Net_total}\")\n",
    "print(f\"Average Change: ${average_change:.2f}\")\n",
    "print(f\"Greatest Increase in Profits: {Greatest_increase[0]} (${Greatest_increase[1]})\")\n",
    "print(f\"Greatest Decrease in Profits: {Greatest_decrease[0]} (${Greatest_decrease[1]})\")\n",
    "\n",
    "\n",
    "# Export the analysis results to a text file\n",
    "output_file = \"Budget_analysis.txt\"\n",
    "with open(output_file, \"w\") as file:\n",
    "    file.write(\"-----------------------\\n\")\n",
    "    file.write(\"Financial Analysis\\n\")\n",
    "    file.write(\"-----------------------\\n\")\n",
    "    file.write(\"Total Months: \" + str(Total_months) + \"\\n\")\n",
    "    file.write(\"Net Total: $\" + str(Net_total) + \"\\n\")\n",
    "    file.write(\"Average Change: $\" + \"{:.2f}\".format(average_change) + \"\\n\")\n",
    "    file.write(\"Greatest Increase in Profits: \" + Greatest_increase[0] + \" ($\" + str(Greatest_increase[1]) + \")\\n\")\n",
    "    file.write(\"Greatest Decrease in Profits: \" + Greatest_decrease[0] + \" ($\" + str(Greatest_decrease[1]) + \")\\n\")\n"
   ]
  },
  {
   "cell_type": "code",
   "execution_count": null,
   "id": "f10529b5",
   "metadata": {},
   "outputs": [],
   "source": []
  },
  {
   "cell_type": "code",
   "execution_count": null,
   "id": "0153178b",
   "metadata": {},
   "outputs": [],
   "source": []
  }
 ],
 "metadata": {
  "kernelspec": {
   "display_name": "Python 3 (ipykernel)",
   "language": "python",
   "name": "python3"
  },
  "language_info": {
   "codemirror_mode": {
    "name": "ipython",
    "version": 3
   },
   "file_extension": ".py",
   "mimetype": "text/x-python",
   "name": "python",
   "nbconvert_exporter": "python",
   "pygments_lexer": "ipython3",
   "version": "3.10.9"
  }
 },
 "nbformat": 4,
 "nbformat_minor": 5
}
