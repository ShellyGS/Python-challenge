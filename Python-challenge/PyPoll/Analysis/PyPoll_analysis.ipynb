{
 "cells": [
  {
   "cell_type": "code",
   "execution_count": 1,
   "id": "39eacb35",
   "metadata": {},
   "outputs": [
    {
     "name": "stdout",
     "output_type": "stream",
     "text": [
      "Election Results\n",
      "-------------------------\n",
      "Total Votes: 369711\n",
      "-------------------------\n",
      "Charles Casper Stockham: 23.049% (85213)\n",
      "Diana DeGette: 73.812% (272892)\n",
      "Raymon Anthony Doane: 3.139% (11606)\n",
      "-------------------------\n",
      "Winner: Diana DeGette\n",
      "-------------------------\n"
     ]
    }
   ],
   "source": [
    "import csv\n",
    "import os\n",
    "\n",
    "# Set the path to the CSV file\n",
    "Pypoll_csv = os.path.join('..','Resources','election_data.csv')\n",
    "\n",
    "# Initialize variables to hold the analysis results\n",
    "Total_votes = 0\n",
    "Candidates = {}\n",
    "Winner = \"\"\n",
    "\n",
    "# Read the CSV file\n",
    "with open(Pypoll_csv, \"r\") as file:\n",
    "    csv_reader = csv.reader(file, delimiter=\",\")\n",
    "    next(csv_reader) # Skip the header row\n",
    "\n",
    "    # Loop through each row in the dataset\n",
    "    for row in csv_reader:\n",
    "        Total_votes = Total_votes + 1 # Update the total number of votes cast\n",
    "        Candidate_name = row[2]  # Update the number of votes for the current candidate\n",
    "        if Candidate_name not in Candidates:\n",
    "            Candidates[Candidate_name] = 1 #setting the counter to 1 as per the candidate\n",
    "        else:\n",
    "            Candidates[Candidate_name] = Candidates[Candidate_name] + 1\n",
    "\n",
    "    # Determine the winner of the election\n",
    "    Max_votes = 0\n",
    "    for Candidate in Candidates:\n",
    "        Votes = Candidates[Candidate]\n",
    "        if Votes > Max_votes:\n",
    "            Max_votes = Votes\n",
    "            Winner = Candidate\n",
    "\n",
    "# Print the analysis results to the terminal\n",
    "print(\"Election Results\")\n",
    "print(\"-------------------------\")\n",
    "print(\"Total Votes: \" + str(Total_votes))\n",
    "print(\"-------------------------\")\n",
    "for Candidate in Candidates:\n",
    "    Votes = Candidates[Candidate]\n",
    "    Vote_percent = Votes / Total_votes * 100\n",
    "    print(Candidate + \": \" + \"{:.3f}\".format(Vote_percent) + \"% (\" + str(Votes) + \")\")\n",
    "print(\"-------------------------\")\n",
    "print(\"Winner: \" + Winner)\n",
    "print(\"-------------------------\")\n",
    "\n",
    "# Export the analysis results to a text file\n",
    "output_file_path = \"Election_results.txt\"\n",
    "with open(output_file_path, \"w\") as file:\n",
    "    file.write(\"Election Results\\n\")\n",
    "    file.write(\"-------------------------\\n\")\n",
    "    file.write(\"Total Votes: \" + str(Total_votes) + \"\\n\")\n",
    "    file.write(\"-------------------------\\n\")\n",
    "    for Candidate in Candidates:\n",
    "        Votes = Candidates[Candidate]\n",
    "        Vote_percent = Votes / Total_votes * 100\n",
    "        file.write(Candidate + \": \" + \"{:.3f}\".format(Vote_percent) + \"% (\" + str(Votes) + \")\\n\")\n",
    "    file.write(\"-------------------------\\n\")\n",
    "    file.write(\"Winner: \" + Winner + \"\\n\")\n",
    "    file.write(\"-------------------------\\n\")"
   ]
  },
  {
   "cell_type": "code",
   "execution_count": null,
   "id": "dd406adf",
   "metadata": {},
   "outputs": [],
   "source": []
  },
  {
   "cell_type": "code",
   "execution_count": null,
   "id": "7dc2cc3f",
   "metadata": {},
   "outputs": [],
   "source": []
  }
 ],
 "metadata": {
  "kernelspec": {
   "display_name": "Python 3 (ipykernel)",
   "language": "python",
   "name": "python3"
  },
  "language_info": {
   "codemirror_mode": {
    "name": "ipython",
    "version": 3
   },
   "file_extension": ".py",
   "mimetype": "text/x-python",
   "name": "python",
   "nbconvert_exporter": "python",
   "pygments_lexer": "ipython3",
   "version": "3.10.9"
  }
 },
 "nbformat": 4,
 "nbformat_minor": 5
}
